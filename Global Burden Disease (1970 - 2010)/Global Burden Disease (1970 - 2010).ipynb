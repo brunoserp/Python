{
 "cells": [
  {
   "cell_type": "markdown",
   "id": "ce8ff3b5-981f-45a8-9ae8-564c88cd583d",
   "metadata": {},
   "source": [
    "# Global Burden of Disease\n",
    "## Data related to the burden of diseases, injuries, and risk factors globally between 1970 and 2010\n",
    "###### Source: Instituto de Métricas e Avaliação de Saúde (IHME)"
   ]
  },
  {
   "cell_type": "markdown",
   "id": "00f9e342-b807-41bf-8d96-cc2b7ff22c1c",
   "metadata": {},
   "source": [
    "Questions to be answered proposed by Universidade dos Dados:\n",
    "1. Which country has the highest average mortality rate per 100,000 individuals over all the years?\n",
    "2. What is the trend in the mortality rate per 100,000 individuals over the years for South American countries? Plot a line graph showing all countries and the evolution of deaths over the years.\n",
    "3. Are there significant differences in mortality rates between men and women in different age groups for South American countries?\n",
    "4. How does the mortality rate per 100,000 individuals vary among different age groups within Brazil? Use a histogram showing the distribution of deaths per year for each age group.\n",
    "5. What is the trend in deaths by gender for Brazil? Plot a line graph with each line representing one of the genders over the years.\n",
    "6. Which age group has the highest number of deaths in Brazil? Is this number the same when looking at all years compared to considering only the last 10 years?\n",
    "7. Which country showed the most significant improvement in mortality rates per 100,000 individuals over the analyzed period?"
   ]
  },
  {
   "cell_type": "markdown",
   "id": "b3c1f0a5-4963-4863-acfb-6f4631cca36b",
   "metadata": {},
   "source": [
    "## PART 1 - Importing and general analysis"
   ]
  },
  {
   "cell_type": "markdown",
   "id": "b73cbfb3-99ec-488d-bd87-8165fb8540f1",
   "metadata": {},
   "source": [
    "### >> Importing data"
   ]
  },
  {
   "cell_type": "code",
   "execution_count": 3,
   "id": "907e4268-ebf3-4a9c-b8f1-b68f3ae42b5a",
   "metadata": {},
   "outputs": [],
   "source": [
    "import pandas as pd"
   ]
  },
  {
   "cell_type": "code",
   "execution_count": 4,
   "id": "92c2104b-47fa-4098-ac28-d9fdcfd43b9b",
   "metadata": {},
   "outputs": [],
   "source": [
    "df = pd.read_csv(r'C:\\Users\\bserpellone\\Desktop\\Universidade de dados\\Desafios\\IHME_GBD_2010_MORTALITY_AGE_SPECIFIC_BY_COUNTRY_1970_2010.csv',\n",
    "                 delimiter=';')"
   ]
  },
  {
   "cell_type": "markdown",
   "id": "6fdbe465-a44f-4eea-aab1-ee408d8f1de5",
   "metadata": {},
   "source": [
    "#### >> Quantity of columns and rows"
   ]
  },
  {
   "cell_type": "code",
   "execution_count": 6,
   "id": "af67dd19-401b-479a-856a-408a339b8a6f",
   "metadata": {},
   "outputs": [
    {
     "data": {
      "text/plain": [
       "(58905, 7)"
      ]
     },
     "execution_count": 6,
     "metadata": {},
     "output_type": "execute_result"
    }
   ],
   "source": [
    "df.shape"
   ]
  },
  {
   "cell_type": "markdown",
   "id": "a6913999-617b-4c65-9fe6-d65b7493caf7",
   "metadata": {},
   "source": [
    "#### >> Datatype and nulls"
   ]
  },
  {
   "cell_type": "code",
   "execution_count": 7,
   "id": "b2f9635d-511d-487d-9622-6a8e9c4aef3f",
   "metadata": {},
   "outputs": [
    {
     "name": "stdout",
     "output_type": "stream",
     "text": [
      "<class 'pandas.core.frame.DataFrame'>\n",
      "RangeIndex: 58905 entries, 0 to 58904\n",
      "Data columns (total 7 columns):\n",
      " #   Column                  Non-Null Count  Dtype  \n",
      "---  ------                  --------------  -----  \n",
      " 0   Country Code            58905 non-null  object \n",
      " 1   Country Name            58905 non-null  object \n",
      " 2   Year                    58905 non-null  int64  \n",
      " 3   Age Group               58905 non-null  object \n",
      " 4   Sex                     58905 non-null  object \n",
      " 5   Number of Deaths        58905 non-null  int64  \n",
      " 6   Death Rate Per 100.000  58905 non-null  float64\n",
      "dtypes: float64(1), int64(2), object(4)\n",
      "memory usage: 3.1+ MB\n"
     ]
    }
   ],
   "source": [
    "df.info()"
   ]
  },
  {
   "cell_type": "markdown",
   "id": "733188de-088a-45b7-ae77-4091b6c60d67",
   "metadata": {},
   "source": [
    "### >> 5 first rows"
   ]
  },
  {
   "cell_type": "code",
   "execution_count": 8,
   "id": "b95fd5f8-7b02-4b38-964b-b07436015e2a",
   "metadata": {},
   "outputs": [
    {
     "data": {
      "text/html": [
       "<div>\n",
       "<style scoped>\n",
       "    .dataframe tbody tr th:only-of-type {\n",
       "        vertical-align: middle;\n",
       "    }\n",
       "\n",
       "    .dataframe tbody tr th {\n",
       "        vertical-align: top;\n",
       "    }\n",
       "\n",
       "    .dataframe thead th {\n",
       "        text-align: right;\n",
       "    }\n",
       "</style>\n",
       "<table border=\"1\" class=\"dataframe\">\n",
       "  <thead>\n",
       "    <tr style=\"text-align: right;\">\n",
       "      <th></th>\n",
       "      <th>Country Code</th>\n",
       "      <th>Country Name</th>\n",
       "      <th>Year</th>\n",
       "      <th>Age Group</th>\n",
       "      <th>Sex</th>\n",
       "      <th>Number of Deaths</th>\n",
       "      <th>Death Rate Per 100.000</th>\n",
       "    </tr>\n",
       "  </thead>\n",
       "  <tbody>\n",
       "    <tr>\n",
       "      <th>0</th>\n",
       "      <td>AFG</td>\n",
       "      <td>Afghanistan</td>\n",
       "      <td>1970</td>\n",
       "      <td>0-6 days</td>\n",
       "      <td>Male</td>\n",
       "      <td>19241</td>\n",
       "      <td>318292.9</td>\n",
       "    </tr>\n",
       "    <tr>\n",
       "      <th>1</th>\n",
       "      <td>AFG</td>\n",
       "      <td>Afghanistan</td>\n",
       "      <td>1970</td>\n",
       "      <td>0-6 days</td>\n",
       "      <td>Female</td>\n",
       "      <td>12600</td>\n",
       "      <td>219544.2</td>\n",
       "    </tr>\n",
       "    <tr>\n",
       "      <th>2</th>\n",
       "      <td>AFG</td>\n",
       "      <td>Afghanistan</td>\n",
       "      <td>1970</td>\n",
       "      <td>0-6 days</td>\n",
       "      <td>Both</td>\n",
       "      <td>31840</td>\n",
       "      <td>270200.7</td>\n",
       "    </tr>\n",
       "    <tr>\n",
       "      <th>3</th>\n",
       "      <td>AFG</td>\n",
       "      <td>Afghanistan</td>\n",
       "      <td>1970</td>\n",
       "      <td>7-27 days</td>\n",
       "      <td>Male</td>\n",
       "      <td>15939</td>\n",
       "      <td>92701.0</td>\n",
       "    </tr>\n",
       "    <tr>\n",
       "      <th>4</th>\n",
       "      <td>AFG</td>\n",
       "      <td>Afghanistan</td>\n",
       "      <td>1970</td>\n",
       "      <td>7-27 days</td>\n",
       "      <td>Female</td>\n",
       "      <td>11287</td>\n",
       "      <td>68594.5</td>\n",
       "    </tr>\n",
       "  </tbody>\n",
       "</table>\n",
       "</div>"
      ],
      "text/plain": [
       "  Country Code Country Name  Year  Age Group     Sex  Number of Deaths  \\\n",
       "0          AFG  Afghanistan  1970   0-6 days    Male             19241   \n",
       "1          AFG  Afghanistan  1970   0-6 days  Female             12600   \n",
       "2          AFG  Afghanistan  1970   0-6 days    Both             31840   \n",
       "3          AFG  Afghanistan  1970  7-27 days    Male             15939   \n",
       "4          AFG  Afghanistan  1970  7-27 days  Female             11287   \n",
       "\n",
       "   Death Rate Per 100.000  \n",
       "0                318292.9  \n",
       "1                219544.2  \n",
       "2                270200.7  \n",
       "3                 92701.0  \n",
       "4                 68594.5  "
      ]
     },
     "execution_count": 8,
     "metadata": {},
     "output_type": "execute_result"
    }
   ],
   "source": [
    "df.head(5)"
   ]
  },
  {
   "cell_type": "markdown",
   "id": "d8a5a44e-19a1-47fc-ac84-2a09e3843e8a",
   "metadata": {},
   "source": [
    "#### Notice that Sex = Both summarizes Male and Female numbers"
   ]
  },
  {
   "cell_type": "markdown",
   "id": "587ffc71-e0b1-48fd-ab48-7a7878619b24",
   "metadata": {},
   "source": [
    "#### Notice that are values on Death Rate Per 100.000 bigger than 100.000, let's analyze these cases:"
   ]
  },
  {
   "cell_type": "code",
   "execution_count": 17,
   "id": "bbcf420d-7a9e-4b4a-bccb-a3bb11e1c734",
   "metadata": {},
   "outputs": [
    {
     "data": {
      "text/html": [
       "<div>\n",
       "<style scoped>\n",
       "    .dataframe tbody tr th:only-of-type {\n",
       "        vertical-align: middle;\n",
       "    }\n",
       "\n",
       "    .dataframe tbody tr th {\n",
       "        vertical-align: top;\n",
       "    }\n",
       "\n",
       "    .dataframe thead th {\n",
       "        text-align: right;\n",
       "    }\n",
       "</style>\n",
       "<table border=\"1\" class=\"dataframe\">\n",
       "  <thead>\n",
       "    <tr style=\"text-align: right;\">\n",
       "      <th></th>\n",
       "      <th>Country Code</th>\n",
       "      <th>Country Name</th>\n",
       "      <th>Year</th>\n",
       "      <th>Age Group</th>\n",
       "      <th>Sex</th>\n",
       "      <th>Number of Deaths</th>\n",
       "      <th>Death Rate Per 100.000</th>\n",
       "      <th>Continent</th>\n",
       "    </tr>\n",
       "  </thead>\n",
       "  <tbody>\n",
       "    <tr>\n",
       "      <th>0</th>\n",
       "      <td>AFG</td>\n",
       "      <td>Afghanistan</td>\n",
       "      <td>1970</td>\n",
       "      <td>0-6 days</td>\n",
       "      <td>Male</td>\n",
       "      <td>19241</td>\n",
       "      <td>318292.9</td>\n",
       "      <td>Asia</td>\n",
       "    </tr>\n",
       "    <tr>\n",
       "      <th>1</th>\n",
       "      <td>AFG</td>\n",
       "      <td>Afghanistan</td>\n",
       "      <td>1970</td>\n",
       "      <td>0-6 days</td>\n",
       "      <td>Female</td>\n",
       "      <td>12600</td>\n",
       "      <td>219544.2</td>\n",
       "      <td>Asia</td>\n",
       "    </tr>\n",
       "    <tr>\n",
       "      <th>2</th>\n",
       "      <td>AFG</td>\n",
       "      <td>Afghanistan</td>\n",
       "      <td>1970</td>\n",
       "      <td>0-6 days</td>\n",
       "      <td>Both</td>\n",
       "      <td>31840</td>\n",
       "      <td>270200.7</td>\n",
       "      <td>Asia</td>\n",
       "    </tr>\n",
       "    <tr>\n",
       "      <th>63</th>\n",
       "      <td>AFG</td>\n",
       "      <td>Afghanistan</td>\n",
       "      <td>1980</td>\n",
       "      <td>0-6 days</td>\n",
       "      <td>Male</td>\n",
       "      <td>16152</td>\n",
       "      <td>235901.0</td>\n",
       "      <td>Asia</td>\n",
       "    </tr>\n",
       "    <tr>\n",
       "      <th>64</th>\n",
       "      <td>AFG</td>\n",
       "      <td>Afghanistan</td>\n",
       "      <td>1980</td>\n",
       "      <td>0-6 days</td>\n",
       "      <td>Female</td>\n",
       "      <td>10838</td>\n",
       "      <td>167053.3</td>\n",
       "      <td>Asia</td>\n",
       "    </tr>\n",
       "    <tr>\n",
       "      <th>...</th>\n",
       "      <td>...</td>\n",
       "      <td>...</td>\n",
       "      <td>...</td>\n",
       "      <td>...</td>\n",
       "      <td>...</td>\n",
       "      <td>...</td>\n",
       "      <td>...</td>\n",
       "      <td>...</td>\n",
       "    </tr>\n",
       "    <tr>\n",
       "      <th>56450</th>\n",
       "      <td>ZWE</td>\n",
       "      <td>Zimbabwe</td>\n",
       "      <td>1980</td>\n",
       "      <td>0-6 days</td>\n",
       "      <td>Both</td>\n",
       "      <td>7317</td>\n",
       "      <td>112149.5</td>\n",
       "      <td>Africa</td>\n",
       "    </tr>\n",
       "    <tr>\n",
       "      <th>56511</th>\n",
       "      <td>ZWE</td>\n",
       "      <td>Zimbabwe</td>\n",
       "      <td>1990</td>\n",
       "      <td>0-6 days</td>\n",
       "      <td>Male</td>\n",
       "      <td>4054</td>\n",
       "      <td>109024.7</td>\n",
       "      <td>Africa</td>\n",
       "    </tr>\n",
       "    <tr>\n",
       "      <th>56574</th>\n",
       "      <td>ZWE</td>\n",
       "      <td>Zimbabwe</td>\n",
       "      <td>2000</td>\n",
       "      <td>0-6 days</td>\n",
       "      <td>Male</td>\n",
       "      <td>4060</td>\n",
       "      <td>112723.7</td>\n",
       "      <td>Africa</td>\n",
       "    </tr>\n",
       "    <tr>\n",
       "      <th>56637</th>\n",
       "      <td>ZWE</td>\n",
       "      <td>Zimbabwe</td>\n",
       "      <td>2010</td>\n",
       "      <td>0-6 days</td>\n",
       "      <td>Male</td>\n",
       "      <td>4370</td>\n",
       "      <td>122103.2</td>\n",
       "      <td>Africa</td>\n",
       "    </tr>\n",
       "    <tr>\n",
       "      <th>56639</th>\n",
       "      <td>ZWE</td>\n",
       "      <td>Zimbabwe</td>\n",
       "      <td>2010</td>\n",
       "      <td>0-6 days</td>\n",
       "      <td>Both</td>\n",
       "      <td>7388</td>\n",
       "      <td>104077.5</td>\n",
       "      <td>Africa</td>\n",
       "    </tr>\n",
       "  </tbody>\n",
       "</table>\n",
       "<p>1090 rows × 8 columns</p>\n",
       "</div>"
      ],
      "text/plain": [
       "      Country Code Country Name  Year Age Group     Sex  Number of Deaths  \\\n",
       "0              AFG  Afghanistan  1970  0-6 days    Male             19241   \n",
       "1              AFG  Afghanistan  1970  0-6 days  Female             12600   \n",
       "2              AFG  Afghanistan  1970  0-6 days    Both             31840   \n",
       "63             AFG  Afghanistan  1980  0-6 days    Male             16152   \n",
       "64             AFG  Afghanistan  1980  0-6 days  Female             10838   \n",
       "...            ...          ...   ...       ...     ...               ...   \n",
       "56450          ZWE     Zimbabwe  1980  0-6 days    Both              7317   \n",
       "56511          ZWE     Zimbabwe  1990  0-6 days    Male              4054   \n",
       "56574          ZWE     Zimbabwe  2000  0-6 days    Male              4060   \n",
       "56637          ZWE     Zimbabwe  2010  0-6 days    Male              4370   \n",
       "56639          ZWE     Zimbabwe  2010  0-6 days    Both              7388   \n",
       "\n",
       "       Death Rate Per 100.000 Continent  \n",
       "0                    318292.9      Asia  \n",
       "1                    219544.2      Asia  \n",
       "2                    270200.7      Asia  \n",
       "63                   235901.0      Asia  \n",
       "64                   167053.3      Asia  \n",
       "...                       ...       ...  \n",
       "56450                112149.5    Africa  \n",
       "56511                109024.7    Africa  \n",
       "56574                112723.7    Africa  \n",
       "56637                122103.2    Africa  \n",
       "56639                104077.5    Africa  \n",
       "\n",
       "[1090 rows x 8 columns]"
      ]
     },
     "execution_count": 17,
     "metadata": {},
     "output_type": "execute_result"
    }
   ],
   "source": [
    "df[df['Death Rate Per 100.000']>100000]"
   ]
  },
  {
   "cell_type": "markdown",
   "id": "ca207d46-8728-4346-aedb-fa7cd8d94ab6",
   "metadata": {},
   "source": [
    "#### There are 1.090 rows where Death Rate Per 100.000 > 100.000. On the first and last 5 rows, the age group is 1 week. Let's group these 1.090 rows by age group:"
   ]
  },
  {
   "cell_type": "code",
   "execution_count": 18,
   "id": "2654d9f9-f1e9-4f49-af95-6d90cd1fef2b",
   "metadata": {},
   "outputs": [
    {
     "data": {
      "text/plain": [
       "Age Group\n",
       "0-6 days    1090\n",
       "Name: count, dtype: int64"
      ]
     },
     "execution_count": 18,
     "metadata": {},
     "output_type": "execute_result"
    }
   ],
   "source": [
    "df['Age Group'][df['Death Rate Per 100.000']>100000].value_counts()"
   ]
  },
  {
   "cell_type": "markdown",
   "id": "02b78469-ec4d-4d01-acb2-97b63c88fc7f",
   "metadata": {},
   "source": [
    "####  Conclusion: All the rows with Death Rate Per 100.000 > 100.000 are from the lowest age group. That may indicate that birth deaths are counted as deaths, but not like births."
   ]
  },
  {
   "cell_type": "markdown",
   "id": "be144cd2-6a41-4de8-b62e-2872acfafb64",
   "metadata": {},
   "source": [
    "### >> What's the frequency of countries?"
   ]
  },
  {
   "cell_type": "code",
   "execution_count": 9,
   "id": "246cc235-753d-4959-b455-9f9544d59b7f",
   "metadata": {},
   "outputs": [
    {
     "data": {
      "text/plain": [
       "Country Name\n",
       "Afghanistan          315\n",
       "New Zealand          315\n",
       "Malawi               315\n",
       "Malaysia             315\n",
       "Namibia              315\n",
       "                    ... \n",
       "Guinea               315\n",
       "Gambia               315\n",
       "Guinea-Bissau        315\n",
       "Equatorial Guinea    315\n",
       "Zimbabwe             315\n",
       "Name: count, Length: 187, dtype: int64"
      ]
     },
     "execution_count": 9,
     "metadata": {},
     "output_type": "execute_result"
    }
   ],
   "source": [
    "df['Country Name'].value_counts()"
   ]
  },
  {
   "cell_type": "markdown",
   "id": "66c5da45-1e3a-4aee-a077-cbe908b3027b",
   "metadata": {},
   "source": [
    "##### There are 187 countries on the database and all of them have the same frequency at the table."
   ]
  },
  {
   "cell_type": "markdown",
   "id": "c3121f2a-65bc-4517-b24e-24eea68cc468",
   "metadata": {},
   "source": [
    "#### >> What's the frequency of years?  "
   ]
  },
  {
   "cell_type": "code",
   "execution_count": 10,
   "id": "27528da8-8ffc-422f-b543-7f75192bccc4",
   "metadata": {},
   "outputs": [
    {
     "data": {
      "text/plain": [
       "Year\n",
       "1970    11781\n",
       "1980    11781\n",
       "1990    11781\n",
       "2000    11781\n",
       "2010    11781\n",
       "Name: count, dtype: int64"
      ]
     },
     "execution_count": 10,
     "metadata": {},
     "output_type": "execute_result"
    }
   ],
   "source": [
    "df['Year'].value_counts()"
   ]
  },
  {
   "cell_type": "markdown",
   "id": "7cdd214d-b93f-4ab6-8147-f1fe6d4d4373",
   "metadata": {},
   "source": [
    "#### >> How is the Age Group column organized?"
   ]
  },
  {
   "cell_type": "code",
   "execution_count": 154,
   "id": "d46230cd-2e35-4084-97c8-ca5bf9c49fc9",
   "metadata": {},
   "outputs": [
    {
     "data": {
      "text/plain": [
       "0        0-6 days\n",
       "3       7-27 days\n",
       "6     28-364 days\n",
       "9       1-4 years\n",
       "12      5-9 years\n",
       "15    10-14 years\n",
       "18    15-19 years\n",
       "21    20-24 years\n",
       "24    25-29 years\n",
       "27    30-34 years\n",
       "30    35-39 years\n",
       "33    40-44 years\n",
       "36    45-49 years\n",
       "39    50-54 years\n",
       "42    55-59 years\n",
       "45    60-64 years\n",
       "48    65-69 years\n",
       "51    70-74 years\n",
       "54    75-79 years\n",
       "57      80+ years\n",
       "60       All ages\n",
       "Name: Age Group, dtype: object"
      ]
     },
     "execution_count": 154,
     "metadata": {},
     "output_type": "execute_result"
    }
   ],
   "source": [
    "df['Age Group'].drop_duplicates()"
   ]
  },
  {
   "cell_type": "markdown",
   "id": "ee9ed99c-1813-471a-a6b5-ce74eb762674",
   "metadata": {},
   "source": [
    "### How the sex column is organizded?"
   ]
  },
  {
   "cell_type": "code",
   "execution_count": 156,
   "id": "081eae06-fd69-4e87-9cbd-b1e9cf5f5b39",
   "metadata": {},
   "outputs": [
    {
     "data": {
      "text/plain": [
       "Sex\n",
       "Male      18900\n",
       "Female    18900\n",
       "Both      18900\n",
       "Name: count, dtype: int64"
      ]
     },
     "execution_count": 156,
     "metadata": {},
     "output_type": "execute_result"
    }
   ],
   "source": [
    "df['Sex'].value_counts()"
   ]
  },
  {
   "cell_type": "markdown",
   "id": "3ed0ef68-c150-4b93-86d2-522a2f71f909",
   "metadata": {},
   "source": [
    "### CONCLUSIONS - PART 1"
   ]
  },
  {
   "cell_type": "markdown",
   "id": "c2a40574-a2a6-4dae-ab20-4c800b1ac4b8",
   "metadata": {},
   "source": [
    "- The set has 7 columns (5 categorical and 2 numerical) and 58.905 rows.\n",
    "- There are 187 distinct countries, which appears 315 times, once they are grouped by age group (21 distinct values), sex (3 distinct values, which two summarize male and female data), decade (5 distinct values)\n",
    "- There are 1.090 rows where Death Rate Per 100.000 habitants > 100.000, all of them with 1 week age group, which may indicate that death births are counted as deaths and not as births"
   ]
  },
  {
   "cell_type": "markdown",
   "id": "2cb73a56-427d-46bf-a9f0-090c9a4b6188",
   "metadata": {},
   "source": [
    "__________________________________________________________________________________________________________________________________"
   ]
  },
  {
   "cell_type": "markdown",
   "id": "b2bbf437-cb3c-42c6-9118-825c544d9ade",
   "metadata": {},
   "source": [
    "## PART 2 - ANALYSIS PROPOSED INICIALLY"
   ]
  },
  {
   "cell_type": "markdown",
   "id": "aab46801-eeef-4f98-829c-1bb3bfd16be9",
   "metadata": {},
   "source": [
    "### 1. Which country has the highest average mortality rate per 100,000 individuals over all the years?"
   ]
  },
  {
   "cell_type": "code",
   "execution_count": 239,
   "id": "a90c89e1-f5a8-4847-889a-d02c9ed99250",
   "metadata": {},
   "outputs": [
    {
     "data": {
      "text/plain": [
       "Country Name\n",
       "Mali             16.663\n",
       "Sierra Leone     16.481\n",
       "Guinea           14.697\n",
       "Guinea-Bissau    14.643\n",
       "Ethiopia         14.447\n",
       "                  ...  \n",
       "France            2.315\n",
       "Sweden            2.185\n",
       "Iceland           2.122\n",
       "Japan             2.036\n",
       "Andorra           1.967\n",
       "Name: Death Rate Per 100.000, Length: 180, dtype: object"
      ]
     },
     "execution_count": 239,
     "metadata": {},
     "output_type": "execute_result"
    }
   ],
   "source": [
    "df.groupby('Country Name')['Death Rate Per 100.000'].mean().sort_values(ascending=False).astype(int).apply(lambda x: '{:,.2f}'.format(x).rstrip('0').rstrip('.').replace(',','.'))"
   ]
  },
  {
   "cell_type": "markdown",
   "id": "53e817f5-bf09-4adf-9e83-57832d3daf80",
   "metadata": {},
   "source": [
    "### And by continent?"
   ]
  },
  {
   "cell_type": "markdown",
   "id": "019d9f70-d132-48fa-8d95-2bc8cd4a466d",
   "metadata": {},
   "source": [
    "#### >> There's no continent data at the table, so I'll import a csv relating country with continent"
   ]
  },
  {
   "cell_type": "code",
   "execution_count": 6,
   "id": "987945da-727d-4445-bbf3-c32c321821ce",
   "metadata": {},
   "outputs": [],
   "source": [
    "continentes = pd.read_csv(r'C:\\Users\\bserpellone\\Desktop\\Universidade de dados\\Desafios\\continentes.csv',delimiter=';')"
   ]
  },
  {
   "cell_type": "code",
   "execution_count": 249,
   "id": "8ed8a4f9-d363-4e49-bb03-a06b58d03bd2",
   "metadata": {},
   "outputs": [
    {
     "data": {
      "text/html": [
       "<div>\n",
       "<style scoped>\n",
       "    .dataframe tbody tr th:only-of-type {\n",
       "        vertical-align: middle;\n",
       "    }\n",
       "\n",
       "    .dataframe tbody tr th {\n",
       "        vertical-align: top;\n",
       "    }\n",
       "\n",
       "    .dataframe thead th {\n",
       "        text-align: right;\n",
       "    }\n",
       "</style>\n",
       "<table border=\"1\" class=\"dataframe\">\n",
       "  <thead>\n",
       "    <tr style=\"text-align: right;\">\n",
       "      <th></th>\n",
       "      <th>Continent</th>\n",
       "      <th>Region</th>\n",
       "      <th>Country</th>\n",
       "      <th>Capital</th>\n",
       "      <th>ISO</th>\n",
       "    </tr>\n",
       "  </thead>\n",
       "  <tbody>\n",
       "    <tr>\n",
       "      <th>0</th>\n",
       "      <td>Asia</td>\n",
       "      <td>South Asia</td>\n",
       "      <td>Afghanistan</td>\n",
       "      <td>Kabul</td>\n",
       "      <td>AFG</td>\n",
       "    </tr>\n",
       "    <tr>\n",
       "      <th>1</th>\n",
       "      <td>Europe</td>\n",
       "      <td>South East Europe</td>\n",
       "      <td>Albania</td>\n",
       "      <td>Tirana</td>\n",
       "      <td>ALB</td>\n",
       "    </tr>\n",
       "    <tr>\n",
       "      <th>2</th>\n",
       "      <td>Africa</td>\n",
       "      <td>Northern Africa</td>\n",
       "      <td>Algeria</td>\n",
       "      <td>Algiers</td>\n",
       "      <td>DZA</td>\n",
       "    </tr>\n",
       "  </tbody>\n",
       "</table>\n",
       "</div>"
      ],
      "text/plain": [
       "  Continent             Region      Country  Capital  ISO\n",
       "0      Asia         South Asia  Afghanistan    Kabul  AFG\n",
       "1    Europe  South East Europe      Albania   Tirana  ALB\n",
       "2    Africa    Northern Africa      Algeria  Algiers  DZA"
      ]
     },
     "execution_count": 249,
     "metadata": {},
     "output_type": "execute_result"
    }
   ],
   "source": [
    "continentes.head(3)"
   ]
  },
  {
   "cell_type": "code",
   "execution_count": 7,
   "id": "b6004da2-0cfb-443b-bc62-8d6967c1c7e7",
   "metadata": {},
   "outputs": [],
   "source": [
    "df_merged = df.merge(continentes, left_on='Country Code', right_on='ISO')"
   ]
  },
  {
   "cell_type": "code",
   "execution_count": 8,
   "id": "56170089-b207-4bea-af11-8e9681657fe6",
   "metadata": {},
   "outputs": [],
   "source": [
    "df_merged = df_merged[['Country Code', 'Country Name', 'Year', 'Age Group', 'Sex', 'Number of Deaths', 'Death Rate Per 100.000', 'Continent']]"
   ]
  },
  {
   "cell_type": "code",
   "execution_count": 9,
   "id": "01184c66-7da8-4df9-abea-3c43ff7c7d56",
   "metadata": {},
   "outputs": [],
   "source": [
    "df = df_merged"
   ]
  },
  {
   "cell_type": "code",
   "execution_count": 10,
   "id": "8afca094-c32d-47c3-bc1f-3a16d4c7b5aa",
   "metadata": {},
   "outputs": [],
   "source": [
    "df = df.rename(columns={'ISO':'Continent'})"
   ]
  },
  {
   "cell_type": "code",
   "execution_count": 255,
   "id": "a88392d1-9c05-4677-8b4f-0405fac5bc4c",
   "metadata": {},
   "outputs": [
    {
     "data": {
      "text/html": [
       "<div>\n",
       "<style scoped>\n",
       "    .dataframe tbody tr th:only-of-type {\n",
       "        vertical-align: middle;\n",
       "    }\n",
       "\n",
       "    .dataframe tbody tr th {\n",
       "        vertical-align: top;\n",
       "    }\n",
       "\n",
       "    .dataframe thead th {\n",
       "        text-align: right;\n",
       "    }\n",
       "</style>\n",
       "<table border=\"1\" class=\"dataframe\">\n",
       "  <thead>\n",
       "    <tr style=\"text-align: right;\">\n",
       "      <th></th>\n",
       "      <th>Country Code</th>\n",
       "      <th>Country Name</th>\n",
       "      <th>Year</th>\n",
       "      <th>Age Group</th>\n",
       "      <th>Sex</th>\n",
       "      <th>Number of Deaths</th>\n",
       "      <th>Death Rate Per 100.000</th>\n",
       "      <th>Continent</th>\n",
       "    </tr>\n",
       "  </thead>\n",
       "  <tbody>\n",
       "    <tr>\n",
       "      <th>0</th>\n",
       "      <td>AFG</td>\n",
       "      <td>Afghanistan</td>\n",
       "      <td>1970</td>\n",
       "      <td>0-6 days</td>\n",
       "      <td>Male</td>\n",
       "      <td>19.241</td>\n",
       "      <td>318.292</td>\n",
       "      <td>Asia</td>\n",
       "    </tr>\n",
       "    <tr>\n",
       "      <th>1</th>\n",
       "      <td>AFG</td>\n",
       "      <td>Afghanistan</td>\n",
       "      <td>1970</td>\n",
       "      <td>0-6 days</td>\n",
       "      <td>Female</td>\n",
       "      <td>12.600</td>\n",
       "      <td>219.544</td>\n",
       "      <td>Asia</td>\n",
       "    </tr>\n",
       "    <tr>\n",
       "      <th>2</th>\n",
       "      <td>AFG</td>\n",
       "      <td>Afghanistan</td>\n",
       "      <td>1970</td>\n",
       "      <td>0-6 days</td>\n",
       "      <td>Both</td>\n",
       "      <td>31.840</td>\n",
       "      <td>270.200</td>\n",
       "      <td>Asia</td>\n",
       "    </tr>\n",
       "    <tr>\n",
       "      <th>3</th>\n",
       "      <td>AFG</td>\n",
       "      <td>Afghanistan</td>\n",
       "      <td>1970</td>\n",
       "      <td>7-27 days</td>\n",
       "      <td>Male</td>\n",
       "      <td>15.939</td>\n",
       "      <td>92.701</td>\n",
       "      <td>Asia</td>\n",
       "    </tr>\n",
       "    <tr>\n",
       "      <th>4</th>\n",
       "      <td>AFG</td>\n",
       "      <td>Afghanistan</td>\n",
       "      <td>1970</td>\n",
       "      <td>7-27 days</td>\n",
       "      <td>Female</td>\n",
       "      <td>11.287</td>\n",
       "      <td>68.594</td>\n",
       "      <td>Asia</td>\n",
       "    </tr>\n",
       "  </tbody>\n",
       "</table>\n",
       "</div>"
      ],
      "text/plain": [
       "  Country Code Country Name  Year  Age Group     Sex Number of Deaths  \\\n",
       "0          AFG  Afghanistan  1970   0-6 days    Male           19.241   \n",
       "1          AFG  Afghanistan  1970   0-6 days  Female           12.600   \n",
       "2          AFG  Afghanistan  1970   0-6 days    Both           31.840   \n",
       "3          AFG  Afghanistan  1970  7-27 days    Male           15.939   \n",
       "4          AFG  Afghanistan  1970  7-27 days  Female           11.287   \n",
       "\n",
       "  Death Rate Per 100.000 Continent  \n",
       "0                318.292      Asia  \n",
       "1                219.544      Asia  \n",
       "2                270.200      Asia  \n",
       "3                 92.701      Asia  \n",
       "4                 68.594      Asia  "
      ]
     },
     "execution_count": 255,
     "metadata": {},
     "output_type": "execute_result"
    }
   ],
   "source": [
    "df.head(5)"
   ]
  },
  {
   "cell_type": "markdown",
   "id": "4ab19cbb-07b1-4e1d-8a84-0037a32a09ef",
   "metadata": {},
   "source": [
    "#### Notice that are rows where Death Rate Per 100.000 > 100.000. Let's analyze them:"
   ]
  },
  {
   "cell_type": "code",
   "execution_count": 14,
   "id": "902b2e59-0467-4a33-ae32-5777bc5ba90f",
   "metadata": {},
   "outputs": [
    {
     "data": {
      "text/html": [
       "<div>\n",
       "<style scoped>\n",
       "    .dataframe tbody tr th:only-of-type {\n",
       "        vertical-align: middle;\n",
       "    }\n",
       "\n",
       "    .dataframe tbody tr th {\n",
       "        vertical-align: top;\n",
       "    }\n",
       "\n",
       "    .dataframe thead th {\n",
       "        text-align: right;\n",
       "    }\n",
       "</style>\n",
       "<table border=\"1\" class=\"dataframe\">\n",
       "  <thead>\n",
       "    <tr style=\"text-align: right;\">\n",
       "      <th></th>\n",
       "      <th>Country Code</th>\n",
       "      <th>Country Name</th>\n",
       "      <th>Year</th>\n",
       "      <th>Age Group</th>\n",
       "      <th>Sex</th>\n",
       "      <th>Number of Deaths</th>\n",
       "      <th>Death Rate Per 100.000</th>\n",
       "      <th>Continent</th>\n",
       "    </tr>\n",
       "  </thead>\n",
       "  <tbody>\n",
       "    <tr>\n",
       "      <th>0</th>\n",
       "      <td>AFG</td>\n",
       "      <td>Afghanistan</td>\n",
       "      <td>1970</td>\n",
       "      <td>0-6 days</td>\n",
       "      <td>Male</td>\n",
       "      <td>19241</td>\n",
       "      <td>318292.9</td>\n",
       "      <td>Asia</td>\n",
       "    </tr>\n",
       "    <tr>\n",
       "      <th>1</th>\n",
       "      <td>AFG</td>\n",
       "      <td>Afghanistan</td>\n",
       "      <td>1970</td>\n",
       "      <td>0-6 days</td>\n",
       "      <td>Female</td>\n",
       "      <td>12600</td>\n",
       "      <td>219544.2</td>\n",
       "      <td>Asia</td>\n",
       "    </tr>\n",
       "    <tr>\n",
       "      <th>2</th>\n",
       "      <td>AFG</td>\n",
       "      <td>Afghanistan</td>\n",
       "      <td>1970</td>\n",
       "      <td>0-6 days</td>\n",
       "      <td>Both</td>\n",
       "      <td>31840</td>\n",
       "      <td>270200.7</td>\n",
       "      <td>Asia</td>\n",
       "    </tr>\n",
       "    <tr>\n",
       "      <th>63</th>\n",
       "      <td>AFG</td>\n",
       "      <td>Afghanistan</td>\n",
       "      <td>1980</td>\n",
       "      <td>0-6 days</td>\n",
       "      <td>Male</td>\n",
       "      <td>16152</td>\n",
       "      <td>235901.0</td>\n",
       "      <td>Asia</td>\n",
       "    </tr>\n",
       "    <tr>\n",
       "      <th>64</th>\n",
       "      <td>AFG</td>\n",
       "      <td>Afghanistan</td>\n",
       "      <td>1980</td>\n",
       "      <td>0-6 days</td>\n",
       "      <td>Female</td>\n",
       "      <td>10838</td>\n",
       "      <td>167053.3</td>\n",
       "      <td>Asia</td>\n",
       "    </tr>\n",
       "    <tr>\n",
       "      <th>...</th>\n",
       "      <td>...</td>\n",
       "      <td>...</td>\n",
       "      <td>...</td>\n",
       "      <td>...</td>\n",
       "      <td>...</td>\n",
       "      <td>...</td>\n",
       "      <td>...</td>\n",
       "      <td>...</td>\n",
       "    </tr>\n",
       "    <tr>\n",
       "      <th>56450</th>\n",
       "      <td>ZWE</td>\n",
       "      <td>Zimbabwe</td>\n",
       "      <td>1980</td>\n",
       "      <td>0-6 days</td>\n",
       "      <td>Both</td>\n",
       "      <td>7317</td>\n",
       "      <td>112149.5</td>\n",
       "      <td>Africa</td>\n",
       "    </tr>\n",
       "    <tr>\n",
       "      <th>56511</th>\n",
       "      <td>ZWE</td>\n",
       "      <td>Zimbabwe</td>\n",
       "      <td>1990</td>\n",
       "      <td>0-6 days</td>\n",
       "      <td>Male</td>\n",
       "      <td>4054</td>\n",
       "      <td>109024.7</td>\n",
       "      <td>Africa</td>\n",
       "    </tr>\n",
       "    <tr>\n",
       "      <th>56574</th>\n",
       "      <td>ZWE</td>\n",
       "      <td>Zimbabwe</td>\n",
       "      <td>2000</td>\n",
       "      <td>0-6 days</td>\n",
       "      <td>Male</td>\n",
       "      <td>4060</td>\n",
       "      <td>112723.7</td>\n",
       "      <td>Africa</td>\n",
       "    </tr>\n",
       "    <tr>\n",
       "      <th>56637</th>\n",
       "      <td>ZWE</td>\n",
       "      <td>Zimbabwe</td>\n",
       "      <td>2010</td>\n",
       "      <td>0-6 days</td>\n",
       "      <td>Male</td>\n",
       "      <td>4370</td>\n",
       "      <td>122103.2</td>\n",
       "      <td>Africa</td>\n",
       "    </tr>\n",
       "    <tr>\n",
       "      <th>56639</th>\n",
       "      <td>ZWE</td>\n",
       "      <td>Zimbabwe</td>\n",
       "      <td>2010</td>\n",
       "      <td>0-6 days</td>\n",
       "      <td>Both</td>\n",
       "      <td>7388</td>\n",
       "      <td>104077.5</td>\n",
       "      <td>Africa</td>\n",
       "    </tr>\n",
       "  </tbody>\n",
       "</table>\n",
       "<p>1090 rows × 8 columns</p>\n",
       "</div>"
      ],
      "text/plain": [
       "      Country Code Country Name  Year Age Group     Sex  Number of Deaths  \\\n",
       "0              AFG  Afghanistan  1970  0-6 days    Male             19241   \n",
       "1              AFG  Afghanistan  1970  0-6 days  Female             12600   \n",
       "2              AFG  Afghanistan  1970  0-6 days    Both             31840   \n",
       "63             AFG  Afghanistan  1980  0-6 days    Male             16152   \n",
       "64             AFG  Afghanistan  1980  0-6 days  Female             10838   \n",
       "...            ...          ...   ...       ...     ...               ...   \n",
       "56450          ZWE     Zimbabwe  1980  0-6 days    Both              7317   \n",
       "56511          ZWE     Zimbabwe  1990  0-6 days    Male              4054   \n",
       "56574          ZWE     Zimbabwe  2000  0-6 days    Male              4060   \n",
       "56637          ZWE     Zimbabwe  2010  0-6 days    Male              4370   \n",
       "56639          ZWE     Zimbabwe  2010  0-6 days    Both              7388   \n",
       "\n",
       "       Death Rate Per 100.000 Continent  \n",
       "0                    318292.9      Asia  \n",
       "1                    219544.2      Asia  \n",
       "2                    270200.7      Asia  \n",
       "63                   235901.0      Asia  \n",
       "64                   167053.3      Asia  \n",
       "...                       ...       ...  \n",
       "56450                112149.5    Africa  \n",
       "56511                109024.7    Africa  \n",
       "56574                112723.7    Africa  \n",
       "56637                122103.2    Africa  \n",
       "56639                104077.5    Africa  \n",
       "\n",
       "[1090 rows x 8 columns]"
      ]
     },
     "execution_count": 14,
     "metadata": {},
     "output_type": "execute_result"
    }
   ],
   "source": [
    "df[df['Death Rate Per 100.000']>100000]"
   ]
  },
  {
   "cell_type": "markdown",
   "id": "6d3c7d78-a28b-4b95-ac52-2b6011385df4",
   "metadata": {},
   "source": [
    "#### There are 1.090 rows where Death Rate Per 100.000 > 100.000. On the first and last 5 rows, the age group is 1 week. Let's group these 1.090 rows by age group:"
   ]
  },
  {
   "cell_type": "code",
   "execution_count": 15,
   "id": "16e8c701-d2f4-4e4e-b6a7-461e32fd5a07",
   "metadata": {},
   "outputs": [
    {
     "data": {
      "text/plain": [
       "Age Group\n",
       "0-6 days    1090\n",
       "Name: count, dtype: int64"
      ]
     },
     "execution_count": 15,
     "metadata": {},
     "output_type": "execute_result"
    }
   ],
   "source": [
    "df['Age Group'][df['Death Rate Per 100.000']>100000].value_counts()"
   ]
  },
  {
   "cell_type": "markdown",
   "id": "cd039618-2fe9-42fd-bdfe-0c3d248b8ada",
   "metadata": {},
   "source": [
    "####  Conclusion: All the rows with Death Rate Per 100.000 > 100.000 are from the lowest age group. That may indicate that birth deaths are counted as deaths, but not like births."
   ]
  },
  {
   "cell_type": "markdown",
   "id": "2b9a4439-730b-47ae-943e-631b0943b577",
   "metadata": {},
   "source": [
    "#### >> Let's see how is the Death Rate Per 100.000 by continent"
   ]
  },
  {
   "cell_type": "code",
   "execution_count": 261,
   "id": "a9f46ec9-4792-460a-9090-cdfc8604b44b",
   "metadata": {},
   "outputs": [
    {
     "data": {
      "text/plain": [
       "Continent\n",
       "Africa      10.580\n",
       "Americas     5.739\n",
       "Asia         7.248\n",
       "Europe       3.389\n",
       "Oceania      6.082\n",
       "Name: Death Rate Per 100.000, dtype: object"
      ]
     },
     "execution_count": 261,
     "metadata": {},
     "output_type": "execute_result"
    }
   ],
   "source": [
    "df.groupby('Continent')['Death Rate Per 100.000'].mean().astype(int).apply(lambda x: '{:,.2f}'.format(x).rstrip('0').rstrip('.').replace(',','.'))"
   ]
  },
  {
   "cell_type": "markdown",
   "id": "9355ccfd-5a8e-47ff-bdd9-44841771d7bb",
   "metadata": {},
   "source": [
    "### > What is the country with the highest mortality for 100k habitants in each continent?"
   ]
  },
  {
   "cell_type": "markdown",
   "id": "0dacd4ce-908b-4fc5-b785-b2b61dbc0dc3",
   "metadata": {},
   "source": [
    "#### >> First, let see the countries with the highests death rate per 100.000 for each continent:"
   ]
  },
  {
   "cell_type": "code",
   "execution_count": 263,
   "id": "e605be18-f1c0-4478-8e97-b9a0fe94a834",
   "metadata": {},
   "outputs": [
    {
     "data": {
      "text/plain": [
       "Continent  Country Name \n",
       "Africa     Mali             16.663\n",
       "           Sierra Leone     16.481\n",
       "           Guinea           14.697\n",
       "           Guinea-Bissau    14.643\n",
       "           Ethiopia         14.447\n",
       "                             ...  \n",
       "Europe     France            2.315\n",
       "           Sweden            2.185\n",
       "           Iceland           2.122\n",
       "Asia       Japan             2.036\n",
       "Europe     Andorra           1.967\n",
       "Name: Death Rate Per 100.000, Length: 180, dtype: object"
      ]
     },
     "execution_count": 263,
     "metadata": {},
     "output_type": "execute_result"
    }
   ],
   "source": [
    "df.groupby(['Continent', 'Country Name'])['Death Rate Per 100.000'].mean().sort_values(ascending=False).astype(int).apply(lambda x: '{:,.2f}'.format(x).rstrip('0').rstrip('.').replace(',','.'))"
   ]
  },
  {
   "cell_type": "markdown",
   "id": "c418a76d-ce6e-4060-8645-50d4d5d9b4ed",
   "metadata": {},
   "source": [
    "#### >> Finally, the highest death rate country for each continent:"
   ]
  },
  {
   "cell_type": "code",
   "execution_count": 265,
   "id": "8cf539bb-8dd1-42c2-810c-478847aa9120",
   "metadata": {},
   "outputs": [
    {
     "data": {
      "text/plain": [
       "Continent  Country Name                              \n",
       "Africa     Mali                                          16.663\n",
       "Asia       Bangladesh                                    14.210\n",
       "Americas   Haiti                                         11.675\n",
       "Oceania    Papua New Guinea                               9.294\n",
       "Europe     Macedonia, the Former Yugoslav Republic of     5.822\n",
       "Name: Death Rate Per 100.000, dtype: object"
      ]
     },
     "execution_count": 265,
     "metadata": {},
     "output_type": "execute_result"
    }
   ],
   "source": [
    "df.groupby(['Continent', 'Country Name'])['Death Rate Per 100.000'].mean().sort_values(ascending=False).groupby('Continent').head(1).astype(int).apply(lambda x: '{:,.2f}'.format(x).rstrip('0').rstrip('.').replace(',','.'))"
   ]
  },
  {
   "cell_type": "markdown",
   "id": "3f32cf97-ff4f-43f0-ad81-d1f8d1f69396",
   "metadata": {},
   "source": [
    "### >> Which countries had the highest (absolute) deaths between 1970 and 2010?"
   ]
  },
  {
   "cell_type": "code",
   "execution_count": 13,
   "id": "6e14642b-f923-4beb-92ea-cb7b1f6d3d9d",
   "metadata": {},
   "outputs": [
    {
     "data": {
      "text/plain": [
       "Country Name        Continent\n",
       "India               Asia         94.039.620\n",
       "China               Asia         78.424.519\n",
       "United States       Americas     22.564.465\n",
       "Russian Federation  Asia         17.270.900\n",
       "Indonesia           Asia         14.030.613\n",
       "Nigeria             Africa       13.312.086\n",
       "Bangladesh          Asia         10.785.422\n",
       "Pakistan            Asia         10.672.447\n",
       "Brazil              Americas      9.744.697\n",
       "Germany             Europe        9.055.985\n",
       "Name: Number of Deaths, dtype: object"
      ]
     },
     "execution_count": 13,
     "metadata": {},
     "output_type": "execute_result"
    }
   ],
   "source": [
    "df[df['Sex']=='Both'].groupby(['Country Name','Continent'])['Number of Deaths'].sum().sort_values(ascending=False).astype(int).apply(lambda x: '{:,.2f}'.format(x).rstrip('0').rstrip('.').replace(',','.')).head(10)"
   ]
  },
  {
   "cell_type": "markdown",
   "id": "98d4092c-86a6-4f1c-85ea-40b36a3a7cd4",
   "metadata": {},
   "source": [
    "### >> How many (absolute) deaths in each continent?"
   ]
  },
  {
   "cell_type": "code",
   "execution_count": 11,
   "id": "b6c5afe2-08db-4191-860f-121e00fa8c0b",
   "metadata": {},
   "outputs": [
    {
     "data": {
      "text/plain": [
       "Continent\n",
       "Asia        282.616.584\n",
       "Africa       70.365.384\n",
       "Europe       55.982.824\n",
       "Americas     53.206.730\n",
       "Oceania       2.120.564\n",
       "Name: Number of Deaths, dtype: object"
      ]
     },
     "execution_count": 11,
     "metadata": {},
     "output_type": "execute_result"
    }
   ],
   "source": [
    "df[df['Sex']=='Both'].groupby('Continent')['Number of Deaths'].sum().sort_values(ascending=False).astype(int).apply(lambda x: '{:,.2f}'.format(x).rstrip('0').rstrip('.').replace(',','.')).head(10)"
   ]
  },
  {
   "cell_type": "markdown",
   "id": "28a880d4-d3d0-4ea5-a307-494c69e85865",
   "metadata": {},
   "source": [
    "### 2. What is the trend in the mortality rate per 100,000 individuals over the years for South American countries? Plot a line graph showing all countries and the evolution of deaths over the years."
   ]
  },
  {
   "cell_type": "markdown",
   "id": "2c09a3fc-852d-42e3-a027-99e47e681ac2",
   "metadata": {},
   "source": [
    "#### >> First of all, let's see which continents are in our data"
   ]
  },
  {
   "cell_type": "code",
   "execution_count": 155,
   "id": "336b57f2-aad5-4770-94fa-c16d5b31f5b9",
   "metadata": {},
   "outputs": [
    {
     "data": {
      "text/plain": [
       "0           Asia\n",
       "315       Africa\n",
       "630       Europe\n",
       "1575    Americas\n",
       "2520     Oceania\n",
       "Name: Continent, dtype: object"
      ]
     },
     "execution_count": 155,
     "metadata": {},
     "output_type": "execute_result"
    }
   ],
   "source": [
    "df['Continent'].drop_duplicates()"
   ]
  },
  {
   "cell_type": "markdown",
   "id": "200fd3c1-9cce-426c-b27c-45e32eca340b",
   "metadata": {},
   "source": [
    "#### >> There's no South America, so let's select its 9 countries manually:"
   ]
  },
  {
   "cell_type": "code",
   "execution_count": 22,
   "id": "e24f161a-ccb6-4cb2-a736-cd7c933eb7cb",
   "metadata": {},
   "outputs": [],
   "source": [
    "south_america_countries = ['Brazil','Uruguay','Argentina','Paraguay','Chile','Ecuador','Peru','Venezuela','Colombia']\n",
    "df_south_america = df[df['Country Name'].isin(south_america_countries)]"
   ]
  },
  {
   "cell_type": "code",
   "execution_count": 181,
   "id": "4de7d96b-c726-4c5f-a4c0-f43a8a2f06d4",
   "metadata": {},
   "outputs": [
    {
     "data": {
      "text/plain": [
       "1575     Argentina\n",
       "7245        Brazil\n",
       "9765         Chile\n",
       "11340     Colombia\n",
       "15435      Ecuador\n",
       "40950         Peru\n",
       "42840     Paraguay\n",
       "53235      Uruguay\n",
       "54495    Venezuela\n",
       "Name: Country Name, dtype: object"
      ]
     },
     "execution_count": 181,
     "metadata": {},
     "output_type": "execute_result"
    }
   ],
   "source": [
    "df_south_america['Country Name'].drop_duplicates()"
   ]
  },
  {
   "cell_type": "code",
   "execution_count": 193,
   "id": "f51d5b8a-de86-423a-be50-dfe15d344f8c",
   "metadata": {},
   "outputs": [
    {
     "data": {
      "text/plain": [
       "Country Name\n",
       "Peru         6.823\n",
       "Brazil       6.770\n",
       "Paraguay     5.611\n",
       "Argentina    4.938\n",
       "Venezuela    4.400\n",
       "Uruguay      4.348\n",
       "Colombia     4.139\n",
       "Chile        4.044\n",
       "Ecuador      3.898\n",
       "Name: Death Rate Per 100.000, dtype: object"
      ]
     },
     "execution_count": 193,
     "metadata": {},
     "output_type": "execute_result"
    }
   ],
   "source": [
    "df_south_america.groupby('Country Name')['Death Rate Per 100.000'].mean().sort_values(ascending=False).astype(int).apply(lambda x: '{:,.2f}'.format(x).rstrip('0').rstrip('.').replace(',','.'))"
   ]
  },
  {
   "cell_type": "code",
   "execution_count": 20,
   "id": "7caa5a66-cd4c-46ee-be47-e9c6cc908d13",
   "metadata": {},
   "outputs": [],
   "source": [
    "import matplotlib.pyplot as plt"
   ]
  },
  {
   "cell_type": "code",
   "execution_count": 23,
   "id": "1b43241b-b192-4a22-ba36-e01826ff167e",
   "metadata": {},
   "outputs": [
    {
     "data": {
      "image/png": "[encoded data removed]",
      "text/plain": [
       "<Figure size 640x480 with 1 Axes>"
      ]
     },
     "metadata": {},
     "output_type": "display_data"
    }
   ],
   "source": [
    "for country in south_america_countries:\n",
    "    countries_row = df_south_america[df_south_america['Country Name']==country]\n",
    "    countries_row = countries_row.groupby('Year')['Death Rate Per 100.000'].mean().reset_index()\n",
    "    plt.plot(countries_row['Year'], countries_row['Death Rate Per 100.000'], linestyle='-', label=country)\n",
    "\n",
    "plt.xlabel('Year')\n",
    "plt.ylabel('Mortality over 100k habitants')\n",
    "plt.title('South America mortality over 100k habitants (1970-2010)')\n",
    "plt.legend()\n",
    "plt.grid(True)\n",
    "plt.xticks(range(1970, max(df_south_america['Year']) + 1, 10))\n",
    "\n",
    "plt.show()"
   ]
  },
  {
   "cell_type": "markdown",
   "id": "82a48550-81dd-46b5-8008-b9703d9c478f",
   "metadata": {},
   "source": [
    "### 3. Are there significant differences in mortality rates between men and women in different age groups for South American countries?"
   ]
  },
  {
   "cell_type": "code",
   "execution_count": 194,
   "id": "c24c165f-0b71-4f76-bab1-0615f3010cd5",
   "metadata": {},
   "outputs": [
    {
     "data": {
      "text/plain": [
       "Sex\n",
       "Male      5.729\n",
       "Both      4.989\n",
       "Female    4.273\n",
       "Name: Death Rate Per 100.000, dtype: object"
      ]
     },
     "execution_count": 194,
     "metadata": {},
     "output_type": "execute_result"
    }
   ],
   "source": [
    "df_south_america.groupby('Sex')['Death Rate Per 100.000'].mean().sort_values(ascending=False).astype(int).apply(lambda x: '{:,.2f}'.format(x).rstrip('0').rstrip('.').replace(',','.'))"
   ]
  },
  {
   "cell_type": "code",
   "execution_count": 195,
   "id": "24f07f2c-8387-4ac9-aeb1-a4bfeb6d8d1d",
   "metadata": {},
   "outputs": [
    {
     "data": {
      "text/html": [
       "<div>\n",
       "<style scoped>\n",
       "    .dataframe tbody tr th:only-of-type {\n",
       "        vertical-align: middle;\n",
       "    }\n",
       "\n",
       "    .dataframe tbody tr th {\n",
       "        vertical-align: top;\n",
       "    }\n",
       "\n",
       "    .dataframe thead th {\n",
       "        text-align: right;\n",
       "    }\n",
       "</style>\n",
       "<table border=\"1\" class=\"dataframe\">\n",
       "  <thead>\n",
       "    <tr style=\"text-align: right;\">\n",
       "      <th>Sex</th>\n",
       "      <th>Both</th>\n",
       "      <th>Female</th>\n",
       "      <th>Male</th>\n",
       "    </tr>\n",
       "    <tr>\n",
       "      <th>Age Group</th>\n",
       "      <th></th>\n",
       "      <th></th>\n",
       "      <th></th>\n",
       "    </tr>\n",
       "  </thead>\n",
       "  <tbody>\n",
       "    <tr>\n",
       "      <th>0-6 days</th>\n",
       "      <td>63.318</td>\n",
       "      <td>53.580</td>\n",
       "      <td>72.621</td>\n",
       "    </tr>\n",
       "    <tr>\n",
       "      <th>1-4 years</th>\n",
       "      <td>320</td>\n",
       "      <td>298</td>\n",
       "      <td>340</td>\n",
       "    </tr>\n",
       "    <tr>\n",
       "      <th>10-14 years</th>\n",
       "      <td>57</td>\n",
       "      <td>45</td>\n",
       "      <td>69</td>\n",
       "    </tr>\n",
       "    <tr>\n",
       "      <th>15-19 years</th>\n",
       "      <td>110</td>\n",
       "      <td>73</td>\n",
       "      <td>146</td>\n",
       "    </tr>\n",
       "    <tr>\n",
       "      <th>20-24 years</th>\n",
       "      <td>158</td>\n",
       "      <td>91</td>\n",
       "      <td>223</td>\n",
       "    </tr>\n",
       "    <tr>\n",
       "      <th>25-29 years</th>\n",
       "      <td>176</td>\n",
       "      <td>108</td>\n",
       "      <td>243</td>\n",
       "    </tr>\n",
       "    <tr>\n",
       "      <th>28-364 days</th>\n",
       "      <td>2.121</td>\n",
       "      <td>1.909</td>\n",
       "      <td>2.324</td>\n",
       "    </tr>\n",
       "    <tr>\n",
       "      <th>30-34 years</th>\n",
       "      <td>203</td>\n",
       "      <td>137</td>\n",
       "      <td>270</td>\n",
       "    </tr>\n",
       "    <tr>\n",
       "      <th>35-39 years</th>\n",
       "      <td>261</td>\n",
       "      <td>193</td>\n",
       "      <td>330</td>\n",
       "    </tr>\n",
       "    <tr>\n",
       "      <th>40-44 years</th>\n",
       "      <td>348</td>\n",
       "      <td>262</td>\n",
       "      <td>436</td>\n",
       "    </tr>\n",
       "    <tr>\n",
       "      <th>45-49 years</th>\n",
       "      <td>487</td>\n",
       "      <td>367</td>\n",
       "      <td>610</td>\n",
       "    </tr>\n",
       "    <tr>\n",
       "      <th>5-9 years</th>\n",
       "      <td>64</td>\n",
       "      <td>55</td>\n",
       "      <td>73</td>\n",
       "    </tr>\n",
       "    <tr>\n",
       "      <th>50-54 years</th>\n",
       "      <td>714</td>\n",
       "      <td>541</td>\n",
       "      <td>895</td>\n",
       "    </tr>\n",
       "    <tr>\n",
       "      <th>55-59 years</th>\n",
       "      <td>1.028</td>\n",
       "      <td>773</td>\n",
       "      <td>1.301</td>\n",
       "    </tr>\n",
       "    <tr>\n",
       "      <th>60-64 years</th>\n",
       "      <td>1.584</td>\n",
       "      <td>1.227</td>\n",
       "      <td>1.978</td>\n",
       "    </tr>\n",
       "    <tr>\n",
       "      <th>65-69 years</th>\n",
       "      <td>2.355</td>\n",
       "      <td>1.867</td>\n",
       "      <td>2.920</td>\n",
       "    </tr>\n",
       "    <tr>\n",
       "      <th>7-27 days</th>\n",
       "      <td>9.630</td>\n",
       "      <td>8.504</td>\n",
       "      <td>10.709</td>\n",
       "    </tr>\n",
       "    <tr>\n",
       "      <th>70-74 years</th>\n",
       "      <td>3.671</td>\n",
       "      <td>3.048</td>\n",
       "      <td>4.445</td>\n",
       "    </tr>\n",
       "    <tr>\n",
       "      <th>75-79 years</th>\n",
       "      <td>5.634</td>\n",
       "      <td>4.889</td>\n",
       "      <td>6.648</td>\n",
       "    </tr>\n",
       "    <tr>\n",
       "      <th>80+ years</th>\n",
       "      <td>11.865</td>\n",
       "      <td>11.183</td>\n",
       "      <td>12.988</td>\n",
       "    </tr>\n",
       "    <tr>\n",
       "      <th>All ages</th>\n",
       "      <td>671</td>\n",
       "      <td>589</td>\n",
       "      <td>754</td>\n",
       "    </tr>\n",
       "  </tbody>\n",
       "</table>\n",
       "</div>"
      ],
      "text/plain": [
       "Sex            Both  Female    Male\n",
       "Age Group                          \n",
       "0-6 days     63.318  53.580  72.621\n",
       "1-4 years       320     298     340\n",
       "10-14 years      57      45      69\n",
       "15-19 years     110      73     146\n",
       "20-24 years     158      91     223\n",
       "25-29 years     176     108     243\n",
       "28-364 days   2.121   1.909   2.324\n",
       "30-34 years     203     137     270\n",
       "35-39 years     261     193     330\n",
       "40-44 years     348     262     436\n",
       "45-49 years     487     367     610\n",
       "5-9 years        64      55      73\n",
       "50-54 years     714     541     895\n",
       "55-59 years   1.028     773   1.301\n",
       "60-64 years   1.584   1.227   1.978\n",
       "65-69 years   2.355   1.867   2.920\n",
       "7-27 days     9.630   8.504  10.709\n",
       "70-74 years   3.671   3.048   4.445\n",
       "75-79 years   5.634   4.889   6.648\n",
       "80+ years    11.865  11.183  12.988\n",
       "All ages        671     589     754"
      ]
     },
     "execution_count": 195,
     "metadata": {},
     "output_type": "execute_result"
    }
   ],
   "source": [
    "df_am_sul.groupby(['Age Group','Sex'])['Death Rate Per 100.000'].mean().round(0).astype(int).sort_values(ascending=False).apply(lambda x: '{:,.2f}'.format(x).rstrip('0').rstrip('.').replace(',','.')).unstack()"
   ]
  },
  {
   "cell_type": "markdown",
   "id": "5c2ad978-b8f3-4031-891f-bcb8c7a2f726",
   "metadata": {},
   "source": [
    "### 4. How does the mortality rate per 100,000 individuals vary among different age groups within Brazil? Use a histogram showing the distribution of deaths per year for each age group."
   ]
  },
  {
   "cell_type": "code",
   "execution_count": 207,
   "id": "98bb2844-9396-45f5-b931-8b68d0ef1d0c",
   "metadata": {},
   "outputs": [
    {
     "data": {
      "image/png": "[encoded data removed]",
      "text/plain": [
       "<Figure size 1800x400 with 1 Axes>"
      ]
     },
     "metadata": {},
     "output_type": "display_data"
    }
   ],
   "source": [
    "df_br = df_south_america[df_south_america['Country Name']=='Brazil']\n",
    "country_rows = df_br.groupby('Age Group')['Death Rate Per 100.000'].mean().reset_index()\n",
    "\n",
    "plt.figure(figsize=(18, 4))\n",
    "plt.bar(country_rows['Age Group'], country_rows['Death Rate Per 100.000'])\n",
    "plt.xlabel('Age group')\n",
    "plt.ylabel('Mortality over 100k habitants')\n",
    "plt.title('Mortality over 100k habitants by age group (1970-2010)')\n",
    "plt.grid(True)\n",
    "plt.xticks(rotation=45)\n",
    "\n",
    "plt.show()"
   ]
  },
  {
   "cell_type": "markdown",
   "id": "2c016a1e-d8f8-4af0-8148-5c8a4ad9ff92",
   "metadata": {},
   "source": [
    "### 5. What is the trend in deaths by gender for Brazil? Plot a line graph with each line representing one of the genders over the years."
   ]
  },
  {
   "cell_type": "code",
   "execution_count": 212,
   "id": "9b671d60-cba8-4977-8049-086715967341",
   "metadata": {},
   "outputs": [
    {
     "data": {
      "image/png": "[encoded data removed]",
      "text/plain": [
       "<Figure size 500x300 with 1 Axes>"
      ]
     },
     "metadata": {},
     "output_type": "display_data"
    }
   ],
   "source": [
    "df_br = df_south_america[(df_south_america['Country Name']=='Brazil') & (df_south_america['Sex']!='Both')]\n",
    "df_sex_grouped = df_br.groupby(['Year','Sex'])['Death Rate Per 100.000'].mean().reset_index()\n",
    "\n",
    "plt.figure(figsize=(5,3))\n",
    "for sex in df_sex_grouped['Sex'].drop_duplicates():\n",
    "    sex_data = df_sex_grouped[df_sex_grouped['Sex'] == sex]\n",
    "    plt.plot(sex_data['Year'].astype(str), sex_data['Death Rate Per 100.000'], label=sex)\n",
    "\n",
    "plt.xlabel('Decade')\n",
    "plt.ylabel('Mortality over 100k habitants')\n",
    "plt.title('Brazil mortality over 100k habitants by sex (1970-2010)')\n",
    "plt.grid(True)\n",
    "plt.xticks(rotation=45)\n",
    "plt.legend(loc='upper center')\n",
    "\n",
    "plt.show()"
   ]
  },
  {
   "cell_type": "markdown",
   "id": "9a02e17f-b8e0-40f3-8516-7da6717dde0c",
   "metadata": {},
   "source": [
    "### 6. Which age group has the highest number of deaths in Brazil? Is this number the same when looking at all years compared to considering only the last 10 years?"
   ]
  },
  {
   "cell_type": "markdown",
   "id": "cdd3afa7-ae02-4036-8752-7f4ad1a6c8f9",
   "metadata": {},
   "source": [
    "#### i. What's the age group with the highest death rate in Brazil?"
   ]
  },
  {
   "cell_type": "code",
   "execution_count": 224,
   "id": "991b5927-08ac-460a-a638-9efec5d95ecc",
   "metadata": {},
   "outputs": [
    {
     "data": {
      "text/plain": [
       "Age Group\n",
       "0-6 days    92.160\n",
       "Name: Death Rate Per 100.000, dtype: object"
      ]
     },
     "execution_count": 224,
     "metadata": {},
     "output_type": "execute_result"
    }
   ],
   "source": [
    "df_br.groupby('Age Group')['Death Rate Per 100.000'].mean().sort_values(ascending=False).head(1).astype(int).apply(lambda x: '{:,.2f}'.format(x).rstrip('0').rstrip('.').replace(',','.'))"
   ]
  },
  {
   "cell_type": "markdown",
   "id": "a8d6ae7b-f733-4d82-ab2e-9ec2d01cba64",
   "metadata": {},
   "source": [
    "#### ii. Which is the age group with the higghest deaths in Brazil in each decade?"
   ]
  },
  {
   "cell_type": "code",
   "execution_count": 230,
   "id": "f9e31935-7b52-42aa-8b53-e4ae08bd49a5",
   "metadata": {},
   "outputs": [
    {
     "data": {
      "text/plain": [
       "Year  Age Group\n",
       "1970  0-6 days     138.857\n",
       "1980  0-6 days     118.136\n",
       "1990  0-6 days      89.703\n",
       "2000  0-6 days      67.190\n",
       "2010  0-6 days      46.913\n",
       "Name: Death Rate Per 100.000, dtype: object"
      ]
     },
     "execution_count": 230,
     "metadata": {},
     "output_type": "execute_result"
    }
   ],
   "source": [
    "df_br.groupby(['Year','Age Group'])['Death Rate Per 100.000'].mean().sort_values(ascending=False).groupby('Year').head(1).astype(int).apply(lambda x: '{:,.2f}'.format(x).rstrip('0').rstrip('.').replace(',','.'))"
   ]
  },
  {
   "cell_type": "markdown",
   "id": "f3023909-dec8-4e81-aead-44810fe039e5",
   "metadata": {},
   "source": [
    "#### Conclusion: The age group with the higgest mortality is with 1 life week in all the decades"
   ]
  },
  {
   "cell_type": "markdown",
   "id": "ecc39b4b-b5cd-4b68-a19a-f5a92e223a70",
   "metadata": {},
   "source": [
    "### 7. Which country showed the most significant improvement in mortality rates per 100,000 individuals over the analyzed period?"
   ]
  },
  {
   "cell_type": "markdown",
   "id": "7a37315d-5dc8-4b01-beef-9e1a85de3986",
   "metadata": {},
   "source": [
    "#### >> Let's calculate the mortality hate by country in the first and last decades"
   ]
  },
  {
   "cell_type": "code",
   "execution_count": 225,
   "id": "24119650-5df8-4f5c-b577-f85aee5cc658",
   "metadata": {},
   "outputs": [],
   "source": [
    "df_70s=df[df['Year']==1970].groupby(['Country Name','Continent'])['Death Rate Per 100.000'].mean().sort_values(ascending=False).astype(int)\n",
    "# change the column name 'Death Rate Per 100.000' to identify after the concatenate with the 10s column\n",
    "df_70s.name = 'Death Rate Per 100.000 (dec 70)'\n",
    "\n",
    "df_10s = df[df['Year']==2010].groupby(['Country Name','Continent'])['Death Rate Per 100.000'].mean().sort_values(ascending=False).astype(int)\n",
    "# change the column name 'Death Rate Per 100.000' to identify after the concatenate with the 70s column\n",
    "df_10s.name = 'Death Rate Per 100.000 (dec 10)'"
   ]
  },
  {
   "cell_type": "code",
   "execution_count": 227,
   "id": "2fb3428c-255e-438e-a384-1286fe204c1e",
   "metadata": {},
   "outputs": [
    {
     "data": {
      "text/html": [
       "<div>\n",
       "<style scoped>\n",
       "    .dataframe tbody tr th:only-of-type {\n",
       "        vertical-align: middle;\n",
       "    }\n",
       "\n",
       "    .dataframe tbody tr th {\n",
       "        vertical-align: top;\n",
       "    }\n",
       "\n",
       "    .dataframe thead th {\n",
       "        text-align: right;\n",
       "    }\n",
       "</style>\n",
       "<table border=\"1\" class=\"dataframe\">\n",
       "  <thead>\n",
       "    <tr style=\"text-align: right;\">\n",
       "      <th></th>\n",
       "      <th></th>\n",
       "      <th>Death Rate Per 100.000 (dec 70)</th>\n",
       "      <th>Death Rate Per 100.000 (dec 10)</th>\n",
       "      <th>Decrease of</th>\n",
       "      <th>Ranking</th>\n",
       "    </tr>\n",
       "    <tr>\n",
       "      <th>Country Name</th>\n",
       "      <th>Continent</th>\n",
       "      <th></th>\n",
       "      <th></th>\n",
       "      <th></th>\n",
       "      <th></th>\n",
       "    </tr>\n",
       "  </thead>\n",
       "  <tbody>\n",
       "    <tr>\n",
       "      <th>Maldives</th>\n",
       "      <th>Asia</th>\n",
       "      <td>18.331</td>\n",
       "      <td>3.030</td>\n",
       "      <td>0.83</td>\n",
       "      <td>1</td>\n",
       "    </tr>\n",
       "    <tr>\n",
       "      <th>Portugal</th>\n",
       "      <th>Europe</th>\n",
       "      <td>7.970</td>\n",
       "      <td>1.475</td>\n",
       "      <td>0.81</td>\n",
       "      <td>2</td>\n",
       "    </tr>\n",
       "    <tr>\n",
       "      <th>Oman</th>\n",
       "      <th>Asia</th>\n",
       "      <td>12.550</td>\n",
       "      <td>2.334</td>\n",
       "      <td>0.81</td>\n",
       "      <td>3</td>\n",
       "    </tr>\n",
       "    <tr>\n",
       "      <th>Bahrain</th>\n",
       "      <th>Asia</th>\n",
       "      <td>8.789</td>\n",
       "      <td>1.845</td>\n",
       "      <td>0.79</td>\n",
       "      <td>4</td>\n",
       "    </tr>\n",
       "    <tr>\n",
       "      <th>Slovenia</th>\n",
       "      <th>Europe</th>\n",
       "      <td>6.603</td>\n",
       "      <td>1.492</td>\n",
       "      <td>0.77</td>\n",
       "      <td>5</td>\n",
       "    </tr>\n",
       "    <tr>\n",
       "      <th>Qatar</th>\n",
       "      <th>Asia</th>\n",
       "      <td>7.744</td>\n",
       "      <td>1.817</td>\n",
       "      <td>0.77</td>\n",
       "      <td>6</td>\n",
       "    </tr>\n",
       "    <tr>\n",
       "      <th>Saudi Arabia</th>\n",
       "      <th>Asia</th>\n",
       "      <td>11.717</td>\n",
       "      <td>2.739</td>\n",
       "      <td>0.77</td>\n",
       "      <td>7</td>\n",
       "    </tr>\n",
       "    <tr>\n",
       "      <th>Singapore</th>\n",
       "      <th>Asia</th>\n",
       "      <td>5.633</td>\n",
       "      <td>1.319</td>\n",
       "      <td>0.77</td>\n",
       "      <td>8</td>\n",
       "    </tr>\n",
       "    <tr>\n",
       "      <th>Italy</th>\n",
       "      <th>Europe</th>\n",
       "      <td>6.463</td>\n",
       "      <td>1.521</td>\n",
       "      <td>0.76</td>\n",
       "      <td>9</td>\n",
       "    </tr>\n",
       "    <tr>\n",
       "      <th>Spain</th>\n",
       "      <th>Europe</th>\n",
       "      <td>5.822</td>\n",
       "      <td>1.417</td>\n",
       "      <td>0.76</td>\n",
       "      <td>10</td>\n",
       "    </tr>\n",
       "  </tbody>\n",
       "</table>\n",
       "</div>"
      ],
      "text/plain": [
       "                       Death Rate Per 100.000 (dec 70)  \\\n",
       "Country Name Continent                                   \n",
       "Maldives     Asia                               18.331   \n",
       "Portugal     Europe                              7.970   \n",
       "Oman         Asia                               12.550   \n",
       "Bahrain      Asia                                8.789   \n",
       "Slovenia     Europe                              6.603   \n",
       "Qatar        Asia                                7.744   \n",
       "Saudi Arabia Asia                               11.717   \n",
       "Singapore    Asia                                5.633   \n",
       "Italy        Europe                              6.463   \n",
       "Spain        Europe                              5.822   \n",
       "\n",
       "                       Death Rate Per 100.000 (dec 10)  Decrease of  Ranking  \n",
       "Country Name Continent                                                        \n",
       "Maldives     Asia                                3.030         0.83        1  \n",
       "Portugal     Europe                              1.475         0.81        2  \n",
       "Oman         Asia                                2.334         0.81        3  \n",
       "Bahrain      Asia                                1.845         0.79        4  \n",
       "Slovenia     Europe                              1.492         0.77        5  \n",
       "Qatar        Asia                                1.817         0.77        6  \n",
       "Saudi Arabia Asia                                2.739         0.77        7  \n",
       "Singapore    Asia                                1.319         0.77        8  \n",
       "Italy        Europe                              1.521         0.76        9  \n",
       "Spain        Europe                              1.417         0.76       10  "
      ]
     },
     "execution_count": 227,
     "metadata": {},
     "output_type": "execute_result"
    }
   ],
   "source": [
    "df_concat = pd.concat([df_70s,df_10s],axis=1)\n",
    "df_concat['Decrease of'] = 1 - (df_concat['Death Rate Per 100.000 (dec 10)']/df_concat['Death Rate Per 100.000 (dec 70)']).round(2)\n",
    "df_concat = df_concat.sort_values(by=['Decrease of'],ascending=False)\n",
    "df_concat['Ranking'] = [i for i in (range(1,df_concat.shape[0]+1))]\n",
    "df_concat['Death Rate Per 100.000 (dec 70)'] = df_concat['Death Rate Per 100.000 (dec 70)'].apply(lambda x: '{:,.2f}'.format(x).rstrip('0').rstrip('.').replace(',','.'))\n",
    "df_concat['Death Rate Per 100.000 (dec 10)'] = df_concat['Death Rate Per 100.000 (dec 10)'].apply(lambda x: '{:,.2f}'.format(x).rstrip('0').rstrip('.').replace(',','.'))\n",
    "df_concat.head(10)"
   ]
  },
  {
   "cell_type": "markdown",
   "id": "2ba83bb0-9c64-49d6-8118-d5a023593a59",
   "metadata": {},
   "source": [
    "#### >> How was the decrease of mortality by continent?"
   ]
  },
  {
   "cell_type": "code",
   "execution_count": 231,
   "id": "5c9a2a43-d23a-4116-8e99-5058504b12a4",
   "metadata": {},
   "outputs": [],
   "source": [
    "# first of all, let's filter the data from 70s in one dataframe, and from 10s in another dataframe:\n",
    "df_70s_continents=df[df['Year']==1970].groupby('Continent')['Death Rate Per 100.000'].mean().sort_values(ascending=False).astype(int)\n",
    "# change the column name 'Death Rate Per 100.000' to identify after the concatenate with the 10s column\n",
    "df_70s_continents.name = 'Death Rate Per 100.000 (dec 70)'\n",
    "\n",
    "df_10s_continents = df[df['Year']==2010].groupby('Continent')['Death Rate Per 100.000'].mean().sort_values(ascending=False).astype(int)\n",
    "# change the column name 'Death Rate Per 100.000' to identify after the concatenate with the 70s column\n",
    "df_10s_continents.name = 'Death Rate Per 100.000 (dec 10)'"
   ]
  },
  {
   "cell_type": "code",
   "execution_count": 234,
   "id": "b7aac0e9-43dc-4742-ab73-914f048ad964",
   "metadata": {},
   "outputs": [
    {
     "data": {
      "text/html": [
       "<div>\n",
       "<style scoped>\n",
       "    .dataframe tbody tr th:only-of-type {\n",
       "        vertical-align: middle;\n",
       "    }\n",
       "\n",
       "    .dataframe tbody tr th {\n",
       "        vertical-align: top;\n",
       "    }\n",
       "\n",
       "    .dataframe thead th {\n",
       "        text-align: right;\n",
       "    }\n",
       "</style>\n",
       "<table border=\"1\" class=\"dataframe\">\n",
       "  <thead>\n",
       "    <tr style=\"text-align: right;\">\n",
       "      <th></th>\n",
       "      <th>Death Rate Per 100.000 (dec 70)</th>\n",
       "      <th>Death Rate Per 100.000 (dec 10)</th>\n",
       "      <th>Decrease of</th>\n",
       "      <th>Ranking</th>\n",
       "    </tr>\n",
       "    <tr>\n",
       "      <th>Continent</th>\n",
       "      <th></th>\n",
       "      <th></th>\n",
       "      <th></th>\n",
       "      <th></th>\n",
       "    </tr>\n",
       "  </thead>\n",
       "  <tbody>\n",
       "    <tr>\n",
       "      <th>Europe</th>\n",
       "      <td>5.353</td>\n",
       "      <td>1.866</td>\n",
       "      <td>0.65</td>\n",
       "      <td>1</td>\n",
       "    </tr>\n",
       "    <tr>\n",
       "      <th>Asia</th>\n",
       "      <td>10.939</td>\n",
       "      <td>4.293</td>\n",
       "      <td>0.61</td>\n",
       "      <td>2</td>\n",
       "    </tr>\n",
       "    <tr>\n",
       "      <th>Americas</th>\n",
       "      <td>8.255</td>\n",
       "      <td>3.793</td>\n",
       "      <td>0.54</td>\n",
       "      <td>3</td>\n",
       "    </tr>\n",
       "    <tr>\n",
       "      <th>Africa</th>\n",
       "      <td>13.496</td>\n",
       "      <td>7.881</td>\n",
       "      <td>0.42</td>\n",
       "      <td>4</td>\n",
       "    </tr>\n",
       "    <tr>\n",
       "      <th>Oceania</th>\n",
       "      <td>7.901</td>\n",
       "      <td>4.602</td>\n",
       "      <td>0.42</td>\n",
       "      <td>5</td>\n",
       "    </tr>\n",
       "  </tbody>\n",
       "</table>\n",
       "</div>"
      ],
      "text/plain": [
       "          Death Rate Per 100.000 (dec 70) Death Rate Per 100.000 (dec 10)  \\\n",
       "Continent                                                                   \n",
       "Europe                              5.353                           1.866   \n",
       "Asia                               10.939                           4.293   \n",
       "Americas                            8.255                           3.793   \n",
       "Africa                             13.496                           7.881   \n",
       "Oceania                             7.901                           4.602   \n",
       "\n",
       "           Decrease of  Ranking  \n",
       "Continent                        \n",
       "Europe            0.65        1  \n",
       "Asia              0.61        2  \n",
       "Americas          0.54        3  \n",
       "Africa            0.42        4  \n",
       "Oceania           0.42        5  "
      ]
     },
     "execution_count": 234,
     "metadata": {},
     "output_type": "execute_result"
    }
   ],
   "source": [
    "# concatenate both dataframe that were just created\n",
    "df_concat_continent = pd.concat([df_70s_continents, df_10s_continents],axis=1)\n",
    "df_concat_continent['Decrease of'] = 1 - (df_concat_continent['Death Rate Per 100.000 (dec 10)']/df_concat_continent['Death Rate Per 100.000 (dec 70)']).round(2)\n",
    "\n",
    "df_concat_continent = df_concat_continent.sort_values(by=['Decrease of'],ascending=False)\n",
    "\n",
    "# add the ranking of countries with the higghest mortality rate\n",
    "df_concat_continent['Ranking'] = [i for i in (range(1,df_concat_continent.shape[0]+1))]\n",
    "\n",
    "# add a dot as million separator\n",
    "df_concat_continent['Death Rate Per 100.000 (dec 70)'] = df_concat_continent['Death Rate Per 100.000 (dec 70)'].apply(lambda x: '{:,.2f}'.format(x).rstrip('0').rstrip('.').replace(',','.'))\n",
    "df_concat_continent['Death Rate Per 100.000 (dec 10)'] = df_concat_continent['Death Rate Per 100.000 (dec 10)'].apply(lambda x: '{:,.2f}'.format(x).rstrip('0').rstrip('.').replace(',','.'))\n",
    "\n",
    "df_concat_continent.head(10)"
   ]
  },
  {
   "cell_type": "markdown",
   "id": "05540926-5760-4013-ae28-c93eac016b95",
   "metadata": {},
   "source": [
    "### >> Which country had the higghest mortality rate decrease in each continent?"
   ]
  },
  {
   "cell_type": "code",
   "execution_count": 238,
   "id": "9e39645a-f480-4dc6-aa4c-005b0aa1cf51",
   "metadata": {},
   "outputs": [
    {
     "data": {
      "text/html": [
       "<div>\n",
       "<style scoped>\n",
       "    .dataframe tbody tr th:only-of-type {\n",
       "        vertical-align: middle;\n",
       "    }\n",
       "\n",
       "    .dataframe tbody tr th {\n",
       "        vertical-align: top;\n",
       "    }\n",
       "\n",
       "    .dataframe thead th {\n",
       "        text-align: right;\n",
       "    }\n",
       "</style>\n",
       "<table border=\"1\" class=\"dataframe\">\n",
       "  <thead>\n",
       "    <tr style=\"text-align: right;\">\n",
       "      <th></th>\n",
       "      <th>Continent</th>\n",
       "      <th>Country Name</th>\n",
       "      <th>Death Rate Per 100.000 (dec 70)</th>\n",
       "      <th>Death Rate Per 100.000 (dec 10)</th>\n",
       "      <th>Decrease of</th>\n",
       "      <th>General ranking</th>\n",
       "    </tr>\n",
       "  </thead>\n",
       "  <tbody>\n",
       "    <tr>\n",
       "      <th>0</th>\n",
       "      <td>Asia</td>\n",
       "      <td>Maldives</td>\n",
       "      <td>18.331</td>\n",
       "      <td>3.030</td>\n",
       "      <td>0.83</td>\n",
       "      <td>1</td>\n",
       "    </tr>\n",
       "    <tr>\n",
       "      <th>1</th>\n",
       "      <td>Europe</td>\n",
       "      <td>Portugal</td>\n",
       "      <td>7.970</td>\n",
       "      <td>1.475</td>\n",
       "      <td>0.81</td>\n",
       "      <td>2</td>\n",
       "    </tr>\n",
       "    <tr>\n",
       "      <th>11</th>\n",
       "      <td>Americas</td>\n",
       "      <td>Chile</td>\n",
       "      <td>7.458</td>\n",
       "      <td>1.838</td>\n",
       "      <td>0.75</td>\n",
       "      <td>12</td>\n",
       "    </tr>\n",
       "    <tr>\n",
       "      <th>20</th>\n",
       "      <td>Africa</td>\n",
       "      <td>Tunisia</td>\n",
       "      <td>10.920</td>\n",
       "      <td>3.041</td>\n",
       "      <td>0.72</td>\n",
       "      <td>21</td>\n",
       "    </tr>\n",
       "    <tr>\n",
       "      <th>35</th>\n",
       "      <td>Oceania</td>\n",
       "      <td>Australia</td>\n",
       "      <td>4.754</td>\n",
       "      <td>1.469</td>\n",
       "      <td>0.69</td>\n",
       "      <td>36</td>\n",
       "    </tr>\n",
       "  </tbody>\n",
       "</table>\n",
       "</div>"
      ],
      "text/plain": [
       "   Continent Country Name Death Rate Per 100.000 (dec 70)  \\\n",
       "0       Asia     Maldives                          18.331   \n",
       "1     Europe     Portugal                           7.970   \n",
       "11  Americas        Chile                           7.458   \n",
       "20    Africa      Tunisia                          10.920   \n",
       "35   Oceania    Australia                           4.754   \n",
       "\n",
       "   Death Rate Per 100.000 (dec 10)  Decrease of  General ranking  \n",
       "0                            3.030         0.83                1  \n",
       "1                            1.475         0.81                2  \n",
       "11                           1.838         0.75               12  \n",
       "20                           3.041         0.72               21  \n",
       "35                           1.469         0.69               36  "
      ]
     },
     "execution_count": 238,
     "metadata": {},
     "output_type": "execute_result"
    }
   ],
   "source": [
    "df_continent_concat = df_concat.reset_index()\n",
    "df_continent_concat = df_continent_concat.loc[:,[\n",
    "    'Continent','Country Name','Death Rate Per 100.000 (dec 70)', 'Death Rate Per 100.000 (dec 10)', 'Decrease of','Ranking']]\n",
    "df_continent_concat = df_continent_concat.rename(columns={'Ranking':'General ranking'})\n",
    "\n",
    "df_continent_concat.groupby('Continent').head(1)"
   ]
  },
  {
   "cell_type": "markdown",
   "id": "4bf2e097-a276-4aa5-b4e6-83071c5b43d7",
   "metadata": {},
   "source": [
    "__________________________________________________________________________________________________________________________________"
   ]
  },
  {
   "cell_type": "markdown",
   "id": "086bc259-62fb-4350-b84a-abb1cc3dfa4e",
   "metadata": {},
   "source": [
    "### CONCLUSIONS\n",
    "PART 1: About database estructure\n",
    "- The set has 7 columns (5 categorical and 2 numerical) and 58.905 rows.\n",
    "- There are 187 distinct countries, which appears 315 times, once they are grouped by age group (21 distinct values), sex (3 distinct values, which two summarize male and female data), decade (5 distinct values)\n",
    "- There are 1.090 rows where Death Rate Per 100.000 habitants > 100.000, all of them with 1 week age group, which may indicate that death births are counted as deaths and not as births\n",
    "\n",
    "PART 2: About database analyzis\n",
    "- Africa is the continent with the higgest Death Rate Per 100.000 habitants average over 1970 and 2010, with Mali as the most representative country. The top 6 biggest death rates are africans\n",
    "- Analyzing absolute numbers, India (94M) and China (78M) had the biggest deaths over the period, while Asia (282M) and Africa (70M) led by continents\n",
    "- 61% of all deaths were men, and 62% of all deaths were 1-6 days age\n",
    "- In South America, Brazil had the fourth higghest decrease of death rate between 1970 and 2010 with 63%. Still, South America had a proportion between sexes of 39% women x 61% men over all the period, against 44% women x 56% men worldwide's\n",
    "- Death rate between 1970 and 2010: Europe had the highest decrease with 65%, Asia 61%, America 54%, Africa and Oceania with 42%. The countries with the highest decrease were Maldives in Asia with 83%, Portugal w/ 81%, Chile w/ 75%, Tunisia w/ 72% and Australia with 69%"
   ]
  },
  {
   "cell_type": "code",
   "execution_count": null,
   "id": "391a78ef-5b1b-4a0d-b931-6afcd3f8443d",
   "metadata": {},
   "outputs": [],
   "source": []
  }
 ],
 "metadata": {
  "kernelspec": {
   "display_name": "Python 3 (ipykernel)",
   "language": "python",
   "name": "python3"
  },
  "language_info": {
   "codemirror_mode": {
    "name": "ipython",
    "version": 3
   },
   "file_extension": ".py",
   "mimetype": "text/x-python",
   "name": "python",
   "nbconvert_exporter": "python",
   "pygments_lexer": "ipython3",
   "version": "3.12.3"
  }
 },
 "nbformat": 4,
 "nbformat_minor": 5
}
